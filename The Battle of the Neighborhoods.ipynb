{
    "cells": [
        {
            "cell_type": "markdown",
            "metadata": {},
            "source": "Problem Description and Discussion\n\nThe goal of this project is to determine the best neighborhood in Washington D.C. to establish a Caribbean market. With approximately 84,000 people of Caribbean descent in the area, there is a core market to sustain the business. With a focus on growing it's own produce and providing international goods as well as prepared food such as beef patties and baked goods, the market can also serve a larger demographic in the region. While D.C. is an expensive city, having local access to produce is imperitive to reducing food deserts within the city. The target audience would be investors as the business owner is seeking partial funding for this project.\n\nData\n\nThe data will help determine the following questions:\n\n1. Are there similar businesses in any of the neighborhoods?\n2. Are there other restarants in the neighborhood and how are they rated?\n3. Is there opportunities outside of the core demographic to reach out to new groups?"
        }
    ],
    "metadata": {
        "kernelspec": {
            "display_name": "Python 3.6",
            "language": "python",
            "name": "python3"
        },
        "language_info": {
            "codemirror_mode": {
                "name": "ipython",
                "version": 3
            },
            "file_extension": ".py",
            "mimetype": "text/x-python",
            "name": "python",
            "nbconvert_exporter": "python",
            "pygments_lexer": "ipython3",
            "version": "3.6.9"
        }
    },
    "nbformat": 4,
    "nbformat_minor": 1
}